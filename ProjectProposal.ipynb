{
  "nbformat": 4,
  "nbformat_minor": 0,
  "metadata": {
    "kernelspec": {
      "display_name": "Python 3",
      "language": "python",
      "name": "python3"
    },
    "language_info": {
      "codemirror_mode": {
        "name": "ipython",
        "version": 3
      },
      "file_extension": ".py",
      "mimetype": "text/x-python",
      "name": "python",
      "nbconvert_exporter": "python",
      "pygments_lexer": "ipython3",
      "version": "3.7.1"
    },
    "colab": {
      "name": "ProjectProposal.ipynb",
      "provenance": [],
      "collapsed_sections": [],
      "include_colab_link": true
    }
  },
  "cells": [
    {
      "cell_type": "markdown",
      "metadata": {
        "id": "view-in-github",
        "colab_type": "text"
      },
      "source": [
        "<a href=\"https://colab.research.google.com/github/danielpatton/COGS108_Repo/blob/master/ProjectProposal.ipynb\" target=\"_parent\"><img src=\"https://colab.research.google.com/assets/colab-badge.svg\" alt=\"Open In Colab\"/></a>"
      ]
    },
    {
      "cell_type": "markdown",
      "metadata": {
        "id": "oM5jvRyMhkLx",
        "colab_type": "text"
      },
      "source": [
        "# COGS 108 - Final Project Proposal"
      ]
    },
    {
      "cell_type": "markdown",
      "metadata": {
        "id": "yJBy4JZRhkLz",
        "colab_type": "text"
      },
      "source": [
        "# Names\n",
        "\n",
        "- Anthony Limon\n",
        "- Daniel Patton\n",
        "- Iman Nematollahi\n",
        "- Andrew Shin\n"
      ]
    },
    {
      "cell_type": "markdown",
      "metadata": {
        "id": "OhL4w_EYhkL1",
        "colab_type": "text"
      },
      "source": [
        "# Group Members IDs\n",
        "\n",
        "- A14109913\n",
        "- A15253384\n",
        "- A\n",
        "- A14955430"
      ]
    },
    {
      "cell_type": "markdown",
      "metadata": {
        "id": "E8fbbrcthkL2",
        "colab_type": "text"
      },
      "source": [
        "# Research Question"
      ]
    },
    {
      "cell_type": "markdown",
      "metadata": {
        "id": "PlQLS8n2hkL4",
        "colab_type": "text"
      },
      "source": [
        "Can we predict the score of the Super Bowl?"
      ]
    },
    {
      "cell_type": "markdown",
      "metadata": {
        "id": "XbYfihryhkL6",
        "colab_type": "text"
      },
      "source": [
        "## Background and Prior Work"
      ]
    },
    {
      "cell_type": "markdown",
      "metadata": {
        "id": "5ET4CluWhkL8",
        "colab_type": "text"
      },
      "source": [
        "With Super Bowl LIV coming up this weekend, hundreds of millions of people across America will be tuning in to watch the annual big game. The Super Bowl has frequently been the most-watched American television broadcast of the year several times making it's viewership highly attractive to companies hoping their commercial airtime will generate exposure and awareness of their product/service. It's high viewership is also what makes it the most gambled-on sporting event in the United States. For those betting on the big game, is it possible to predict the score of the super bowl within some margin of error/ can we predict who will win?\n",
        "\n",
        "\n",
        "References (include links):\n",
        "- 1) https://towardsdatascience.com/updated-super-bowl-prediction-model-2019-90d2a039b2ba\n",
        "- 2) "
      ]
    },
    {
      "cell_type": "markdown",
      "metadata": {
        "id": "pGzzRFZThkL9",
        "colab_type": "text"
      },
      "source": [
        "# Hypothesis\n"
      ]
    },
    {
      "cell_type": "markdown",
      "metadata": {
        "id": "Of4eYVgYhkL_",
        "colab_type": "text"
      },
      "source": [
        "*State and defend your hypotheses here.*"
      ]
    },
    {
      "cell_type": "markdown",
      "metadata": {
        "id": "6NtNmyrAhkMB",
        "colab_type": "text"
      },
      "source": [
        "# Data"
      ]
    },
    {
      "cell_type": "markdown",
      "metadata": {
        "id": "zd9CQI3lhkMD",
        "colab_type": "text"
      },
      "source": [
        "*Explain what the ideal dataset you would want to answer this question. (This should include: What variables? How many observations? Who/what/how would these data be collected? How would these data be stored/organized?)*"
      ]
    },
    {
      "cell_type": "markdown",
      "metadata": {
        "id": "YTAr_E1ihkME",
        "colab_type": "text"
      },
      "source": [
        "# Ethics & Privacy"
      ]
    },
    {
      "cell_type": "markdown",
      "metadata": {
        "id": "Em3E3AWmhkMF",
        "colab_type": "text"
      },
      "source": [
        "*Fill in your ethics & privacy discussion here*"
      ]
    },
    {
      "cell_type": "markdown",
      "metadata": {
        "id": "KSTwFq_ehkMH",
        "colab_type": "text"
      },
      "source": [
        "# Team Expectations "
      ]
    },
    {
      "cell_type": "markdown",
      "metadata": {
        "id": "-SziMi2WhkMJ",
        "colab_type": "text"
      },
      "source": [
        "* *Team Expectation 1*\n",
        "* *Team Expectation 2*\n",
        "* *Team Expecation 3*\n",
        "* ..."
      ]
    },
    {
      "cell_type": "markdown",
      "metadata": {
        "id": "qh_Wh9xQhkMK",
        "colab_type": "text"
      },
      "source": [
        "# Project Timeline Proposal"
      ]
    },
    {
      "cell_type": "markdown",
      "metadata": {
        "id": "JzE81AcuhkML",
        "colab_type": "text"
      },
      "source": [
        "| Meeting Date  | Meeting Time| Completed Before Meeting  | Discuss at Meeting |\n",
        "|---|---|---|---|\n",
        "| 1/20  |  1 PM | Read & Think about COGS 108 expectations; brainstorm topics/questions  | Determine best form of communication; Discuss and decide on final project topic; discuss hypothesis; begin background research | \n",
        "| 1/26  |  10 AM |  Do background research on topic | Discuss ideal dataset(s) and ethics; draft project proposal | \n",
        "| 2/1  | 10 AM  | Edit, finalize, and submit proposal; Search for datasets  | Discuss Wrangling and possible analytical approaches; Assign group members to lead each specific part   |\n",
        "| 2/14  | 6 PM  | Import & Wrangle Data (Ant Man); EDA (Hulk) | Review/Edit wrangling/EDA; Discuss Analysis Plan   |\n",
        "| 2/23  | 12 PM  | Finalize wrangling/EDA; Begin Analysis (Iron Man; Thor) | Discuss/edit Analysis; Complete project check-in |\n",
        "| 3/13  | 12 PM  | Complete analysis; Draft results/conclusion/discussion (Wasp)| Discuss/edit full project |\n",
        "| 3/19  | Before 11:59 PM  | NA | Turn in Final Project & Group Project Surveys |"
      ]
    }
  ]
}